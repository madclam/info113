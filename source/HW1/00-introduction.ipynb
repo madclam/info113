{
 "cells": [
  {
   "cell_type": "markdown",
   "metadata": {
    "nbgrader": {
     "grade": false,
     "grade_id": "cell-4911a792a82448d7",
     "locked": true,
     "schema_version": 3,
     "solution": false
    }
   },
   "source": [
    "# Info 114: Introduction à la Science des Données, HomeWork 1\n",
    "\n",
    "## Objectif\n",
    "L'objectif de cette première séance est de vous faire découvrir ce à quoi ressemble une analyse de données complète suivant le processus VI-ME-BA-BAR (Visualisation, Metric, Baseline, Error Bar).\n",
    "\n",
    "Cela va faire intervenir beaucoup d'éléments nouveaux: environement Jupyter, programmation Python, bibliothèques diverses, outils de visualisation, concepts de statistiques. Pas de panique: le but est seulement de vous faire un tour d'horizon pour donner l'objectif du semestre; on reprendra ensuite tous ces éléments un par un.\n",
    "\n",
    "Une analyse de donnée prend la forme d'un document narratif explicant les objectifs, hypothèses et étapes de l'analyse: quelles sont les données, qu'est-ce que l'on souhaite calculer, pourquoi, comment, quels sont les résultats et quelles conclusions on en tire. Ce document est typiquement écrit en anglais pour qu'il puisse être partagé avec le plus grand nombre."
   ]
  },
  {
   "cell_type": "markdown",
   "metadata": {
    "nbgrader": {
     "grade": false,
     "grade_id": "cell-49874ed5d0338eec",
     "locked": true,
     "schema_version": 3,
     "solution": false
    }
   },
   "source": [
    "## Premier pas avec Jupyter\n",
    "Depuis quelques années, les feuilles de travail (notebook) Jupyter sont un des moyens prisés pour rédiger de telles annalyses de données et mener les calculs sous-jacents. Il s'agit en effet de documents permettant de mêler texte, formules, calculs interactifs et visualisations.\n",
    "\n",
    "Le document que vous êtes en train de lire est une feuille Jupyter. On peut y mettre des calculs comme ci-dessous. Pour exécuter le calcul, cliquez dans la *cellule* ci-dessous et tapez Shift-Enter:"
   ]
  },
  {
   "cell_type": "code",
   "execution_count": 2,
   "metadata": {
    "nbgrader": {
     "grade": false,
     "grade_id": "cell-02a086c93b3ab3f2",
     "locked": true,
     "schema_version": 3,
     "solution": false
    }
   },
   "outputs": [
    {
     "data": {
      "text/plain": [
       "2"
      ]
     },
     "execution_count": 2,
     "metadata": {},
     "output_type": "execute_result"
    }
   ],
   "source": [
    "1 + 1"
   ]
  },
  {
   "cell_type": "markdown",
   "metadata": {
    "nbgrader": {
     "grade": false,
     "grade_id": "cell-aa712b4c2a825a98",
     "locked": true,
     "schema_version": 3,
     "solution": false
    }
   },
   "source": [
    "Utilisez maintenant la cellule ci-dessous pour calculer 1+2; puis cliquez à nouveau pour calculer 3*4."
   ]
  },
  {
   "cell_type": "code",
   "execution_count": null,
   "metadata": {},
   "outputs": [],
   "source": []
  },
  {
   "cell_type": "markdown",
   "metadata": {
    "nbgrader": {
     "grade": false,
     "grade_id": "cell-20435b0654662bc4",
     "locked": true,
     "schema_version": 3,
     "solution": false
    }
   },
   "source": [
    "Vous rencontrerez aussi des cellules à compléter comme la suivante dans lesquelles vous remplacerez les deux lignes \"Your code here\" et \"raise ...\" par le calcul à faire; calculez cinq fois sept."
   ]
  },
  {
   "cell_type": "code",
   "execution_count": null,
   "metadata": {
    "nbgrader": {
     "grade": true,
     "grade_id": "cell-d8b61dce71965f3e",
     "locked": false,
     "points": 1,
     "schema_version": 3,
     "solution": true,
     "task": false
    }
   },
   "outputs": [],
   "source": [
    "### BEGIN SOLUTION\n",
    "5 * 7\n",
    "### END SOLUTION"
   ]
  },
  {
   "cell_type": "markdown",
   "metadata": {
    "nbgrader": {
     "grade": true,
     "grade_id": "cell-b35d0d71e7e10dd3",
     "locked": false,
     "points": 1,
     "schema_version": 3,
     "solution": true
    }
   },
   "source": [
    "Vous pouvez aussi éditer les cellules contenant du texte comme celle-ci. Allez-y: cliquez dans la cellule et mettez votre nom là:\n",
    "BEGIN SOLUTION\n",
    "XXXXXXX\n",
    "END SOLUTION\n",
    "Puis Shift-Enter.\n",
    "Notez que certaines cellules de ce document sont en lecture-seule. Vous ne pouvez pas les modifier.\n",
    "En revanche, vous pouvez toujours insérer de nouvelles cellules libres (voir le menu `Insérer`)."
   ]
  },
  {
   "cell_type": "markdown",
   "metadata": {},
   "source": [
    "On peut ausi mettre des formules mathématiques dans une cellule:\n",
    "$$ \\frac 1 {1-\\frac 1z} = \\sum_{i=0}^\\infty \\frac 1 {z^i}$$"
   ]
  },
  {
   "cell_type": "markdown",
   "metadata": {
    "nbgrader": {
     "grade": false,
     "grade_id": "cell-8226871d2f13ccb8",
     "locked": true,
     "schema_version": 3,
     "solution": false
    }
   },
   "source": [
    "## Au boulot!\n",
    "Maintenant que vous avez appris les rudiments de Jupyter, vous aller pouvoir passer à des calculs plus intéressants.\n",
    "\n",
    "Dans les feuilles [01-images.ipynb](01-images.ipynb) et [02-tableaux.ipynb](02-tableaux.ipynb) vous apprendrez  quelques manipulations simples d'images et de tableaux. Une fois faites, vous serez prêts pour plonger dans la feuille [03-une-analyse-de-donnees.ipynb](03-une-analyse-de-données)."
   ]
  }
 ],
 "metadata": {
  "celltoolbar": "Create Assignment",
  "kernelspec": {
   "display_name": "Python 3",
   "language": "python",
   "name": "python3"
  },
  "language_info": {
   "codemirror_mode": {
    "name": "ipython",
    "version": 3
   },
   "file_extension": ".py",
   "mimetype": "text/x-python",
   "name": "python",
   "nbconvert_exporter": "python",
   "pygments_lexer": "ipython3",
   "version": "3.7.3"
  },
  "toc": {
   "base_numbering": 1,
   "nav_menu": {},
   "number_sections": true,
   "sideBar": true,
   "skip_h1_title": false,
   "title_cell": "Table of Contents",
   "title_sidebar": "Contents",
   "toc_cell": false,
   "toc_position": {},
   "toc_section_display": true,
   "toc_window_display": false
  },
  "varInspector": {
   "cols": {
    "lenName": 16,
    "lenType": 16,
    "lenVar": 40
   },
   "kernels_config": {
    "python": {
     "delete_cmd_postfix": "",
     "delete_cmd_prefix": "del ",
     "library": "var_list.py",
     "varRefreshCmd": "print(var_dic_list())"
    },
    "r": {
     "delete_cmd_postfix": ") ",
     "delete_cmd_prefix": "rm(",
     "library": "var_list.r",
     "varRefreshCmd": "cat(var_dic_list()) "
    }
   },
   "types_to_exclude": [
    "module",
    "function",
    "builtin_function_or_method",
    "instance",
    "_Feature"
   ],
   "window_display": false
  }
 },
 "nbformat": 4,
 "nbformat_minor": 2
}
