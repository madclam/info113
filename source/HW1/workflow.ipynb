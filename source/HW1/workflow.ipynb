{
 "cells": [
  {
   "cell_type": "markdown",
   "metadata": {},
   "source": [
    "# Info 113 Introduction to Data Science\n",
    "## Homework 1: VI-ME-BA-BAR"
   ]
  },
  {
   "cell_type": "code",
   "execution_count": 5,
   "metadata": {},
   "outputs": [],
   "source": [
    "# Load general libraries\n",
    "import os, re\n",
    "from glob import glob as ls\n",
    "from PIL import Image\n",
    "import numpy as np\n",
    "import matplotlib.pyplot as plt\n",
    "%matplotlib inline\n",
    "import pandas as pd\n",
    "import seaborn as sns; sns.set()\n",
    "from PIL import Image\n",
    "%load_ext autoreload\n",
    "%autoreload 2"
   ]
  },
  {
   "cell_type": "markdown",
   "metadata": {},
   "source": [
    "# Step 1: {VI}sualization and data preprocessing \n",
    "At this stage we do not expect you to be able to write the code that we give you in the next two cells, but check it out and try to understand it."
   ]
  },
  {
   "cell_type": "code",
   "execution_count": 6,
   "metadata": {},
   "outputs": [],
   "source": [
    "def get_files(datadir, type = 'a'):\n",
    "    ''' Function that gets all the files as a list. '''\n",
    "    file_list = list()\n",
    "    for root, dirs, files in os.walk(datadir):\n",
    "        for name in files:\n",
    "            if not re.search('.ipynb|.DS_Store', name) and re.search(type, name):\n",
    "                file_list.append(os.path.join(root, name))\n",
    "    return file_list"
   ]
  },
  {
   "cell_type": "code",
   "execution_count": 7,
   "metadata": {},
   "outputs": [
    {
     "data": {
      "image/png": "[encoded data removed]",
      "text/plain": [
       "<Figure size 360x288 with 20 Axes>"
      ]
     },
     "metadata": {},
     "output_type": "display_data"
    }
   ],
   "source": [
    "data_dir = './mini-dataset'\n",
    "a_files = get_files(data_dir, 'a')\n",
    "b_files = get_files(data_dir, 'b')\n",
    "columns = 5\n",
    "rows = len(a_files+b_files)/columns\n",
    "fig=plt.figure(figsize=(columns, rows))\n",
    "k=1\n",
    "for filename in a_files+b_files:\n",
    "    img=Image.open(filename)\n",
    "    fig.add_subplot(rows, columns, k)\n",
    "    plt.imshow(img) \n",
    "    plt.tick_params(axis='both', labelsize=0, length = 0)\n",
    "    plt.grid(b=False)\n",
    "    k=k+1"
   ]
  },
  {
   "cell_type": "markdown",
   "metadata": {},
   "source": [
    "## Preprocessing\n",
    "Data often come already in a feature representation, but not always. As an exercise, we are going to guide you through a simple feature extraction process."
   ]
  },
  {
   "cell_type": "markdown",
   "metadata": {},
   "source": [
    "### Question 1: Load an image\n",
    "Create a variable called `apple_example` and assign it the name of the file file in the list `a_files`. Then create a variable `img` and assign it the corresponding image read from that file. Finally, assign to two variables `width` and `height` the dimension of the image. Print `width` and `height`."
   ]
  },
  {
   "cell_type": "code",
   "execution_count": 8,
   "metadata": {},
   "outputs": [
    {
     "name": "stdout",
     "output_type": "stream",
     "text": [
      "32 32\n"
     ]
    }
   ],
   "source": [
    "# Solution of question 1\n",
    "apple_example = a_files[0]\n",
    "img=Image.open(apple_example)\n",
    "width, height = img.size\n",
    "print(width, height)"
   ]
  },
  {
   "cell_type": "markdown",
   "metadata": {},
   "source": [
    "### Question 2: Coersion of images as numpy arrays\n",
    "Create a variable called `M` and assign it a numpy array containing `img`. Assign to three variables `imw`, `imh`, `nchannels` the dimensions (shape) of `M`. Then print `imw`, `imh`, and `nchannels`. You will notice that there are 4 channels, what are those channels? Try to remember or check your class notes."
   ]
  },
  {
   "cell_type": "code",
   "execution_count": 9,
   "metadata": {},
   "outputs": [
    {
     "name": "stdout",
     "output_type": "stream",
     "text": [
      "32 32 4\n"
     ]
    }
   ],
   "source": [
    "# Solution of question 2\n",
    "M = np.array(img)\n",
    "imw, imh, nchannels = M.shape\n",
    "print(imw, imh, nchannels)"
   ]
  },
  {
   "cell_type": "markdown",
   "metadata": {},
   "source": [
    "### Question 3: Foreground and background colors\n",
    "Show the image `img`. Check that the dimension is consistent with `width` and `height`. Then, examine the colors of the foreground and the background: (1) assign to variables `fg_r`, `fg_g`, `fg_b`, and `fg_a` the channel values of `M[15, 15]`. Print `fg_r`, `fg_g`, `fg_b`, and `fg_a`. (2) assign to variables `bg_r`, `bg_g`, `bg_b`, and `bg_a` the channel values of `M[0, 0]`. Print `bg_r`, `bg_g`, `bg_b`, and `bg_a`. \n",
    "Does the color of the apple match the foreground color?"
   ]
  },
  {
   "cell_type": "code",
   "execution_count": 10,
   "metadata": {},
   "outputs": [
    {
     "name": "stdout",
     "output_type": "stream",
     "text": [
      "251 2 7 255\n",
      "255 255 255 255\n"
     ]
    },
    {
     "data": {
      "image/png": "[encoded data removed]",
      "text/plain": [
       "<Figure size 432x288 with 1 Axes>"
      ]
     },
     "metadata": {},
     "output_type": "display_data"
    }
   ],
   "source": [
    "# Solution of question 3\n",
    "plt.imshow(M)\n",
    "fg_r, fg_g, fg_b, fg_a = M[15, 15]\n",
    "print(fg_r, fg_g, fg_b, fg_a)\n",
    "bg_r, bg_g, bg_b, bg_a = M[0, 0]\n",
    "print(bg_r, bg_g, bg_b, bg_a)"
   ]
  },
  {
   "cell_type": "markdown",
   "metadata": {},
   "source": [
    "### Question 4: Separate color channels\n",
    "Define three arrays of type `float` named `R`, `G`, and `B`, containing the red, green and blue channels respectively (for all pixels) Then define an array `D` (color difference) containing `R-(G+B)/2` and an array `V` (value of intensity) containing `(R+G+B)/3`."
   ]
  },
  {
   "cell_type": "code",
   "execution_count": 11,
   "metadata": {},
   "outputs": [],
   "source": [
    "# Solution of question 4\n",
    "R = 1.*M[:,:,0]; G = 1.*M[:,:,1]; B = 1.*M[:,:,2]\n",
    "D = R-(G+B)/2\n",
    "V = (R+G+B)/3"
   ]
  },
  {
   "cell_type": "markdown",
   "metadata": {},
   "source": [
    "### Question 5: Extraction of the `redness` feature\n",
    "Create a variable `redness` containing the average (mean) of `D` for the foreground pixels. Hint: the background pixels have a value intensity of `255` (white). Check that your definition of redness matches `fg_r - (fg_g + fg_b)/2`. As a side question: try to define `whiteness = bg_r - (bg_g + bg_b)/2`. Why do you get an error? Why did you get no error for `fg_r - (fg_g + fg_b)/2`? How can you do this \"right\"? Hint: rgb channels are defined as `intergers`."
   ]
  },
  {
   "cell_type": "code",
   "execution_count": 12,
   "metadata": {},
   "outputs": [
    {
     "name": "stdout",
     "output_type": "stream",
     "text": [
      "246.5\n"
     ]
    }
   ],
   "source": [
    "# Solution of question 5\n",
    "redness = np.mean(D[V!=255])\n",
    "print(redness)\n",
    "assert(redness == fg_r - (fg_g + fg_b)/2)"
   ]
  },
  {
   "cell_type": "markdown",
   "metadata": {},
   "source": [
    "### Question 6: Extraction of the `elongation` feature\n",
    "Create two mean vectors `V0` and `V1` by averaging (taking the mean) of `V` along axis 0 and axis 1 respectively. Then use this line of code `V0_idx = [i for i in range(imw) if V0[i]!=255]` to get the indices of the values that are not white along axis 0 (horizontal). Similarly write code to extract `V1_idx` (pixels not white along axis 2, vertical). Extract for thos information the witdth `w` and the height `h` of the apple. Visuallt check that the width and height are correct. Finally compute the `elongation` variable (aspect ratio) as `w/h`."
   ]
  },
  {
   "cell_type": "code",
   "execution_count": 13,
   "metadata": {},
   "outputs": [
    {
     "name": "stdout",
     "output_type": "stream",
     "text": [
      "20 23 0.8695652173913043\n"
     ]
    }
   ],
   "source": [
    "# Solution of question 6\n",
    "V0 = np.mean(V, axis=0)\n",
    "V1 = np.mean(V, axis=1)\n",
    "V0_idx = [i for i in range(imw) if V0[i]!=255]\n",
    "V1_idx = [i for i in range(imh) if V1[i]!=255]\n",
    "w = max(V0_idx)-min(V0_idx)\n",
    "h = max(V1_idx)-min(V1_idx)\n",
    "elongation = w/h \n",
    "print(w, h, elongation)"
   ]
  },
  {
   "cell_type": "markdown",
   "metadata": {},
   "source": [
    "### Question 7: Function `extract_features`\n",
    "Write a function with `M` as an input argument and that takes all the steps we walked you through, then returns `redness` and `elongation` as a list. You will use the following template:\n",
    "\n",
    "    def extract_features(M, verbose = True):\n",
    "    # Put your code here.\n",
    "    # verbose is just a flag you can use to comment out print statements needed to debug your code\n",
    "    return [redness, elongation]"
   ]
  },
  {
   "cell_type": "code",
   "execution_count": 14,
   "metadata": {},
   "outputs": [],
   "source": [
    "# Solution of question 7\n",
    "def extract_features(M, verbose = True):\n",
    "    '''Take a RGBA numpy array M as input \n",
    "    and return two features of the foreground: \n",
    "    redness and elongation.'''\n",
    "    R = 1.*M[:,:,0]; G = 1.*M[:,:,1]; B = 1.*M[:,:,2]\n",
    "    D = R-(G+B)/2\n",
    "    V = (R+G+B)/3\n",
    "    imw, imh = V.shape\n",
    "    redness = np.mean(D[V!=0])\n",
    "    if verbose: print('redness={0:5.2f}'.format(redness))\n",
    "    V0=np.mean(V, axis=0)\n",
    "    V1=np.mean(V, axis=1)\n",
    "    V0_idx = [i for i in range(imw) if V0[i]!=255]\n",
    "    V1_idx = [i for i in range(imh) if V1[i]!=255]\n",
    "    w = max(V0_idx)-min(V0_idx)\n",
    "    h = max(V1_idx)-min(V1_idx)\n",
    "    elongation = w/h\n",
    "    if verbose: print('elongation={0:5.2f}'.format(elongation))\n",
    "    return [redness, elongation]"
   ]
  },
  {
   "cell_type": "markdown",
   "metadata": {},
   "source": [
    "## Preprocess and visualize all the data\n",
    "At this stage we do not expect you to be able to write the code that we give you in the next few cells, but check it out and try to understand it."
   ]
  },
  {
   "cell_type": "code",
   "execution_count": 15,
   "metadata": {},
   "outputs": [],
   "source": [
    "# Create matrices Xtrain, Xtest, Ytrain, and Ytest\n",
    "# The classe Apple is coded as 1 and the class Banana as -1\n",
    "verbose = False\n",
    "n = len(a_files)\n",
    "_Xtrain = np.zeros([n, 2])\n",
    "Ytrain = np.zeros([n, 1])\n",
    "_Xtest = np.zeros([n, 2])\n",
    "Ytest = np.zeros([n, 1])\n",
    "for k in range(n):\n",
    "    if verbose: print(a_files[k])\n",
    "    img=Image.open(a_files[k])\n",
    "    M = np.array(img)\n",
    "    if k%2!=0:\n",
    "        i = int((k-1)/2.)\n",
    "        if verbose: print('train {}'.format(i))\n",
    "        _Xtrain[i, :] = extract_features(M, verbose)\n",
    "        Ytrain[i] = 1\n",
    "    else:\n",
    "        i = int(k/2.)\n",
    "        if verbose: print('test {}'.format(i))\n",
    "        _Xtest[i,:] = extract_features(M, verbose)\n",
    "        Ytest[i] = 1\n",
    "for k in range(n):\n",
    "    if verbose: print(b_files[k])\n",
    "    img=Image.open(b_files[k])\n",
    "    M = np.array(img)\n",
    "    if k%2!=0:\n",
    "        i = int(n/2. + (k-1)/2.)\n",
    "        if verbose: print('train {}'.format(i))\n",
    "        _Xtrain[i, :] = extract_features(M, verbose)\n",
    "        Ytrain[i] = -1\n",
    "    else:\n",
    "        i = int(n/2. + k/2.)\n",
    "        if verbose: print('test {}'.format(i))\n",
    "        _Xtest[i, :] = extract_features(M, verbose)\n",
    "        Ytest[i] = -1"
   ]
  },
  {
   "cell_type": "code",
   "execution_count": 17,
   "metadata": {},
   "outputs": [],
   "source": [
    "# For better rendering and improved results, the features are standardized.\n",
    "# This means that for each column vector we subtract the mean and divide by the standard deviation\n",
    "from sklearn.preprocessing import StandardScaler\n",
    "scaler = StandardScaler() \n",
    "Xtrain = scaler.fit_transform(_Xtrain)\n",
    "# We apply the preprocessing transformation on test data with parameters learned on training data\n",
    "Xtest = scaler.transform(_Xtest)"
   ]
  },
  {
   "cell_type": "code",
   "execution_count": 18,
   "metadata": {},
   "outputs": [
    {
     "data": {
      "image/png": "[encoded data removed]",
      "text/plain": [
       "<Figure size 360x360 with 4 Axes>"
      ]
     },
     "metadata": {},
     "output_type": "display_data"
    }
   ],
   "source": [
    "# Plot data as heat maps\n",
    "XY_train = pd.DataFrame(np.append(Xtrain, Ytrain, axis=1), columns=['redness', 'elongation', 'fruit'])\n",
    "XY_test = pd.DataFrame(np.append(Xtest, Ytest, axis=1), columns=['redness', 'elongation', 'fruit'])\n",
    "fig=plt.figure(figsize=(5,5))\n",
    "fig.subplots_adjust(wspace=1)\n",
    "ax_tr = fig.add_subplot(1, 2, 1)\n",
    "sns.heatmap(XY_train)\n",
    "ax_tr.title.set_text('Training')\n",
    "ax_te = fig.add_subplot(1, 2, 2)\n",
    "sns.heatmap(XY_test)\n",
    "ax_te.title.set_text('Test')"
   ]
  },
  {
   "cell_type": "code",
   "execution_count": 19,
   "metadata": {},
   "outputs": [
    {
     "name": "stdout",
     "output_type": "stream",
     "text": [
      "TRAINING\n"
     ]
    },
    {
     "data": {
      "text/plain": [
       "<seaborn.axisgrid.PairGrid at 0x7f2e48b2a630>"
      ]
     },
     "execution_count": 19,
     "metadata": {},
     "output_type": "execute_result"
    },
    {
     "data": {
      "image/png": "[encoded data removed]",
      "text/plain": [
       "<Figure size 418.725x360 with 6 Axes>"
      ]
     },
     "metadata": {},
     "output_type": "display_data"
    }
   ],
   "source": [
    "# Make scatter plots\n",
    "print('TRAINING')\n",
    "sns.pairplot(XY_train, vars=['redness', 'elongation'], hue='fruit', markers=[\"s\", \"o\"])"
   ]
  },
  {
   "cell_type": "code",
   "execution_count": 20,
   "metadata": {},
   "outputs": [
    {
     "name": "stdout",
     "output_type": "stream",
     "text": [
      "TEST\n"
     ]
    },
    {
     "data": {
      "text/plain": [
       "<seaborn.axisgrid.PairGrid at 0x7f2e488c0b38>"
      ]
     },
     "execution_count": 20,
     "metadata": {},
     "output_type": "execute_result"
    },
    {
     "data": {
      "image/png": "[encoded data removed]",
      "text/plain": [
       "<Figure size 418.725x360 with 6 Axes>"
      ]
     },
     "metadata": {},
     "output_type": "display_data"
    }
   ],
   "source": [
    "print('TEST')\n",
    "sns.pairplot(XY_test, vars=['redness', 'elongation'], hue='fruit', markers=[\"s\", \"o\"])"
   ]
  },
  {
   "cell_type": "markdown",
   "metadata": {},
   "source": [
    "# Step 2: {ME}tric definition"
   ]
  },
  {
   "cell_type": "markdown",
   "metadata": {},
   "source": [
    "### Question 8: Error rate\n",
    "Write a function that implements the error rate metric. Follow this template:\n",
    "\n",
    "    def error_rate(solution, prediction):\n",
    "    # Put your code here.\n",
    "    return e\n",
    "    \n",
    "Then write unit tests what check that the error rate between `solution=Ytrain` and `prediction=Ytrain` is zero, that between `solution=Ytrain` and `prediction=np.zeros(Ytrain.shape)` is one and the between `solution=Ytrain` and `prediction=np.ones(Ytrain.shape)` is 0.5."
   ]
  },
  {
   "cell_type": "code",
   "execution_count": 21,
   "metadata": {},
   "outputs": [],
   "source": [
    "# Solution to question 8\n",
    "def error_rate(solution, prediction):\n",
    "    '''Compute the error rate between two vectors.'''\n",
    "    e = np.mean(solution!=prediction)\n",
    "    return e\n",
    "\n",
    "assert(error_rate(Ytrain, Ytrain) == 0)\n",
    "assert(error_rate(Ytrain, np.zeros(Ytrain.shape)) == 1)\n",
    "assert(error_rate(Ytrain, np.ones(Ytrain.shape)) == 0.5)"
   ]
  },
  {
   "cell_type": "markdown",
   "metadata": {},
   "source": [
    "### Question 9: Accuracy score\n",
    "The library `scikit_learn` also called `sklearn` has a function `accuracy_score`. Check that `error_rate` = `1-accuracy_score` using the same examples as above. As part of this question you need to first figure out how to import the function `accuracy_score`. Look this up on the Internet."
   ]
  },
  {
   "cell_type": "code",
   "execution_count": 22,
   "metadata": {},
   "outputs": [],
   "source": [
    "# Solution to question 9\n",
    "from sklearn.metrics import accuracy_score\n",
    "assert(error_rate(Ytrain, Ytrain) == 1-accuracy_score(Ytrain, Ytrain))\n",
    "assert(error_rate(Ytrain, np.zeros(Ytrain.shape)) == 1-accuracy_score(Ytrain, np.zeros(Ytrain.shape)))\n",
    "assert(error_rate(Ytrain, np.ones(Ytrain.shape)) == 1-accuracy_score(Ytrain, np.ones(Ytrain.shape)))"
   ]
  },
  {
   "cell_type": "markdown",
   "metadata": {},
   "source": [
    "# Step 3: {BA}seline results\n",
    "The 1-nearest neighbor classifier is a nice and simple method. Luckily it is implemented in `scikit-learn`. You may also want to implement it yourself as part of your project."
   ]
  },
  {
   "cell_type": "markdown",
   "metadata": {},
   "source": [
    "### Question 10: 1-nearest-neighbor classifier\n",
    "Import the `KNeighborsClassifier` classifier from `scikit-learn`. Set the number of neighbors to one. Train a model with `Xtrain` by calling the method `fit`. Then use the trained model to create two vectors of prediction `Ytrain_predicted` and `Ytest_predicted` by calling the method `predict`. Compute `e_tr`, the training error rate, and `e_tr` the test error rate.\n",
    "\n",
    "WARNING: `scikit-learn` uses lists for prediction labels instead of column vectors. You will have to replace `Ytrain` by `Ytrain.ravel()` and `Ytest` by `Ytest.ravel()` to avoid an error message and wrong error rates."
   ]
  },
  {
   "cell_type": "code",
   "execution_count": 23,
   "metadata": {},
   "outputs": [
    {
     "name": "stdout",
     "output_type": "stream",
     "text": [
      "0.0 0.2\n"
     ]
    }
   ],
   "source": [
    "# Solution to question 10\n",
    "from sklearn.neighbors import KNeighborsClassifier\n",
    "neigh = KNeighborsClassifier(n_neighbors=1)\n",
    "neigh.fit(scaler.fit_transform(Xtrain), Ytrain.ravel()) \n",
    "Ytrain_predicted = neigh.predict(Xtrain)\n",
    "Ytest_predicted = neigh.predict(Xtest)\n",
    "e_tr = error_rate(Ytrain.ravel(), Ytrain_predicted)\n",
    "e_te = error_rate(Ytest.ravel(), Ytest_predicted)\n",
    "print(e_tr, e_te)"
   ]
  },
  {
   "cell_type": "markdown",
   "metadata": {},
   "source": [
    "### Question 11: Confusion matrix\n",
    "Extract the variables `tn`, `fp`, `fn`, `tp` (true negative, false positive, false negative, and true positive) using the `confusion_matrix` function of `scikit_learn`, for test data predictions."
   ]
  },
  {
   "cell_type": "code",
   "execution_count": 24,
   "metadata": {},
   "outputs": [
    {
     "name": "stdout",
     "output_type": "stream",
     "text": [
      "3 2 0 5\n"
     ]
    }
   ],
   "source": [
    "# Solution to question 11\n",
    "from sklearn.metrics import confusion_matrix\n",
    "tn, fp, fn, tp = confusion_matrix(Ytest.ravel(), Ytest_predicted).ravel()\n",
    "print(tn, fp, fn, tp)"
   ]
  },
  {
   "cell_type": "markdown",
   "metadata": {},
   "source": [
    "# Step 4: {BAR}s of error and test set size\n",
    "Last but not least let us evaluate the significance of our results bu computing error bars. Obviously, since we have only 10 test examples, we cannot see at least 100 errors (which is the target we gave to ourselves in class). But this is only a toy example."
   ]
  },
  {
   "cell_type": "markdown",
   "metadata": {},
   "source": [
    "### Question 12: Test set error bar\n",
    "Compute the 1=sigma error bar of e_te using the standard error formula defined in class. How many test examples would we need to divide this error bar by a factor of two?"
   ]
  },
  {
   "cell_type": "code",
   "execution_count": 25,
   "metadata": {},
   "outputs": [
    {
     "name": "stdout",
     "output_type": "stream",
     "text": [
      "0.1264911064067352\n"
     ]
    }
   ],
   "source": [
    "# Solution to question 12\n",
    "n_te = len(Ytest)\n",
    "sigma = np.sqrt(e_te * (1-e_te) / n_te)\n",
    "print(sigma)"
   ]
  },
  {
   "cell_type": "code",
   "execution_count": null,
   "metadata": {},
   "outputs": [],
   "source": []
  }
 ],
 "metadata": {
  "kernelspec": {
   "display_name": "Python 3",
   "language": "python",
   "name": "python3"
  },
  "language_info": {
   "codemirror_mode": {
    "name": "ipython",
    "version": 3
   },
   "file_extension": ".py",
   "mimetype": "text/x-python",
   "name": "python",
   "nbconvert_exporter": "python",
   "pygments_lexer": "ipython3",
   "version": "3.7.3"
  }
 },
 "nbformat": 4,
 "nbformat_minor": 2
}
