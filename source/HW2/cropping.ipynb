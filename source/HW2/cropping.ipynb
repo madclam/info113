{
 "cells": [
  {
   "cell_type": "markdown",
   "metadata": {
    "nbgrader": {
     "grade": false,
     "grade_id": "cell-e9bc2e3f9cc17c13",
     "locked": true,
     "schema_version": 1,
     "solution": false
    }
   },
   "source": [
    "# Image cropping\n",
    "In this worksheet, you will implement our first step of feature extraction: croping"
   ]
  },
  {
   "cell_type": "code",
   "execution_count": 1,
   "metadata": {
    "nbgrader": {
     "grade": false,
     "grade_id": "cell-ce3d053d210fae67",
     "locked": true,
     "schema_version": 1,
     "solution": false
    }
   },
   "outputs": [],
   "source": [
    "from PIL import Image\n",
    "import matplotlib.pyplot as plt\n",
    "%matplotlib inline\n",
    "%load_ext autoreload\n",
    "%autoreload 2\n",
    "\n",
    "code_dir = './code'\n",
    "from sys import path; path.append(code_dir); \n",
    "from utilities import *"
   ]
  },
  {
   "cell_type": "markdown",
   "metadata": {
    "nbgrader": {
     "grade": false,
     "grade_id": "cell-a87175fd8d62c803",
     "locked": true,
     "schema_version": 1,
     "solution": false
    }
   },
   "source": [
    "Let's look at one of the images:"
   ]
  },
  {
   "cell_type": "code",
   "execution_count": 2,
   "metadata": {
    "nbgrader": {
     "grade": false,
     "grade_id": "cell-5313ef557e051404",
     "locked": true,
     "schema_version": 1,
     "solution": false
    }
   },
   "outputs": [
    {
     "data": {
      "image/png": "[encoded data removed]",
      "text/plain": [
       "<PIL.PngImagePlugin.PngImageFile image mode=RGB size=81x60 at 0x7FF9BF7CC8D0>"
      ]
     },
     "execution_count": 2,
     "metadata": {},
     "output_type": "execute_result"
    }
   ],
   "source": [
    "img = Image.open(\"mini-dataset/b01.png\")\n",
    "img"
   ]
  },
  {
   "cell_type": "markdown",
   "metadata": {
    "nbgrader": {
     "grade": false,
     "grade_id": "cell-46e1f03c4701e5fb",
     "locked": true,
     "schema_version": 1,
     "solution": false
    }
   },
   "source": [
    "The fruit is located at the center and there is a lot of \"useless\" background around. To simplify the problem and run the code faster, we will keep only the 32x32 pixels in the center of the original image. This operation is called *cropping*."
   ]
  },
  {
   "cell_type": "markdown",
   "metadata": {
    "nbgrader": {
     "grade": false,
     "grade_id": "cell-a96d351f59c828be",
     "locked": true,
     "schema_version": 1,
     "solution": false
    }
   },
   "source": [
    "1. Assign the dimension of the original image to two variables `width` and `height` , and check their values.<br>\n",
    "    Hint: try `a,b = (14, 42)`, and look at the values of `a` and `b` after."
   ]
  },
  {
   "cell_type": "code",
   "execution_count": 3,
   "metadata": {
    "nbgrader": {
     "grade": false,
     "grade_id": "cell-e3e918128827fa1e",
     "locked": false,
     "schema_version": 1,
     "solution": true
    }
   },
   "outputs": [],
   "source": [
    "### BEGIN SOLUTION\n",
    "width, height = img.size\n",
    "### END SOLUTION"
   ]
  },
  {
   "cell_type": "code",
   "execution_count": 4,
   "metadata": {
    "nbgrader": {
     "grade": false,
     "grade_id": "cell-cb5a8b3870df8988",
     "locked": true,
     "schema_version": 1,
     "solution": false
    }
   },
   "outputs": [
    {
     "data": {
      "text/plain": [
       "81"
      ]
     },
     "execution_count": 4,
     "metadata": {},
     "output_type": "execute_result"
    }
   ],
   "source": [
    "width"
   ]
  },
  {
   "cell_type": "code",
   "execution_count": 5,
   "metadata": {
    "nbgrader": {
     "grade": false,
     "grade_id": "cell-98641ac858222f54",
     "locked": true,
     "schema_version": 1,
     "solution": false
    }
   },
   "outputs": [
    {
     "data": {
      "text/plain": [
       "60"
      ]
     },
     "execution_count": 5,
     "metadata": {},
     "output_type": "execute_result"
    }
   ],
   "source": [
    "height"
   ]
  },
  {
   "cell_type": "code",
   "execution_count": 6,
   "metadata": {
    "nbgrader": {
     "grade": true,
     "grade_id": "cell-1abbbca990956709",
     "locked": true,
     "points": 1,
     "schema_version": 1,
     "solution": false
    }
   },
   "outputs": [],
   "source": [
    "### HIDDEN TEST\n",
    "assert width == 81\n",
    "assert height == 60\n",
    "### HIDDEN TEST"
   ]
  },
  {
   "cell_type": "markdown",
   "metadata": {
    "nbgrader": {
     "grade": false,
     "grade_id": "cell-405759203943d804",
     "locked": true,
     "schema_version": 1,
     "solution": false
    }
   },
   "source": [
    "2.  Extract the 32x32 pixels from the center of the image, and assign the result in `cropped_img`.<br>\n",
    "    Hints:\n",
    "    - find, on paper, the *bounding box* of the region to be cropped; that is its minimal and maximal `x` and `y` coordinates;\n",
    "    - look at the documentation of `round`;\n",
    "    - look at the documentation of `img.crop`."
   ]
  },
  {
   "cell_type": "code",
   "execution_count": 7,
   "metadata": {
    "nbgrader": {
     "grade": false,
     "grade_id": "cell-6576254809cfa310",
     "locked": false,
     "schema_version": 1,
     "solution": true
    }
   },
   "outputs": [],
   "source": [
    "crop_size = 32\n",
    "### BEGIN SOLUTION\n",
    "left = round((width - crop_size)/2.)\n",
    "top = round((height - crop_size)/2.)\n",
    "right = round((width + crop_size)/2.)\n",
    "bottom = round((height + crop_size)/2.)\n",
    "    \n",
    "cropped_img = img.crop((left, top, right, bottom))\n",
    "### END SOLUTION"
   ]
  },
  {
   "cell_type": "markdown",
   "metadata": {
    "nbgrader": {
     "grade": false,
     "grade_id": "cell-5d99195fd212c909",
     "locked": true,
     "schema_version": 1,
     "solution": false
    }
   },
   "source": [
    "Display the cropped image, and double check its size:"
   ]
  },
  {
   "cell_type": "code",
   "execution_count": 8,
   "metadata": {
    "nbgrader": {
     "grade": false,
     "grade_id": "cell-cfa8d4f55dc6edb9",
     "locked": false,
     "schema_version": 1,
     "solution": true
    }
   },
   "outputs": [
    {
     "data": {
      "image/png": "[encoded data removed]",
      "text/plain": [
       "<PIL.Image.Image image mode=RGB size=32x32 at 0x7FF9ACC8C588>"
      ]
     },
     "execution_count": 8,
     "metadata": {},
     "output_type": "execute_result"
    }
   ],
   "source": [
    "### BEGIN SOLUTION\n",
    "cropped_img\n",
    "### END SOLUTION"
   ]
  },
  {
   "cell_type": "code",
   "execution_count": 9,
   "metadata": {
    "nbgrader": {
     "grade": true,
     "grade_id": "cell-6001749a3c72eab4",
     "locked": true,
     "points": 1,
     "schema_version": 1,
     "solution": false
    }
   },
   "outputs": [],
   "source": [
    "assert cropped_img.size == (32, 32)"
   ]
  },
  {
   "cell_type": "markdown",
   "metadata": {
    "nbgrader": {
     "grade": false,
     "grade_id": "cell-d5c5e7bd3f131370",
     "locked": true,
     "schema_version": 1,
     "solution": false
    }
   },
   "source": [
    "3.  We will want to reuse the above code on all images. To this end, make it into a function:"
   ]
  },
  {
   "cell_type": "code",
   "execution_count": 10,
   "metadata": {
    "nbgrader": {
     "grade": false,
     "grade_id": "cell-b613df6668333a32",
     "locked": false,
     "schema_version": 1,
     "solution": true
    }
   },
   "outputs": [],
   "source": [
    "def crop_image(img, crop_size = 32):\n",
    "    ''' Extract the `crop_size` x `crop_size` pixels from the center of the PIL image `img`.'''\n",
    "    ### BEGIN SOLUTION\n",
    "    # First determine the bounding box\n",
    "    width, height = img.size\n",
    "    left = round((width - crop_size)/2.)\n",
    "    top = round((height - crop_size)/2.)\n",
    "    right = round((width + crop_size)/2.)\n",
    "    bottom = round((height + crop_size)/2.)\n",
    "    # Then crop the image to that box\n",
    "    cropped_img = img.crop((left, top, right, bottom))\n",
    "    ### END SOLUTION\n",
    "    return cropped_img"
   ]
  },
  {
   "cell_type": "markdown",
   "metadata": {
    "nbgrader": {
     "grade": false,
     "grade_id": "cell-7dc8ed084cf8b7ee",
     "locked": true,
     "schema_version": 1,
     "solution": false
    }
   },
   "source": [
    "Double check your function:"
   ]
  },
  {
   "cell_type": "code",
   "execution_count": 11,
   "metadata": {
    "nbgrader": {
     "grade": false,
     "grade_id": "cell-6ba7528bb8b40e80",
     "locked": true,
     "schema_version": 1,
     "solution": false
    }
   },
   "outputs": [
    {
     "data": {
      "image/png": "[encoded data removed]",
      "text/plain": [
       "<PIL.Image.Image image mode=RGB size=32x32 at 0x7FF9ACC8C160>"
      ]
     },
     "execution_count": 11,
     "metadata": {},
     "output_type": "execute_result"
    }
   ],
   "source": [
    "crop_image(img)"
   ]
  },
  {
   "cell_type": "code",
   "execution_count": 12,
   "metadata": {
    "nbgrader": {
     "grade": false,
     "grade_id": "cell-8c17832d068642b9",
     "locked": true,
     "schema_version": 1,
     "solution": false
    }
   },
   "outputs": [
    {
     "data": {
      "image/png": "[encoded data removed]",
      "text/plain": [
       "<PIL.Image.Image image mode=RGB size=40x40 at 0x7FF9ACC8C550>"
      ]
     },
     "execution_count": 12,
     "metadata": {},
     "output_type": "execute_result"
    }
   ],
   "source": [
    "crop_image(img, 40)"
   ]
  },
  {
   "cell_type": "code",
   "execution_count": 13,
   "metadata": {
    "nbgrader": {
     "grade": true,
     "grade_id": "cell-1b0b413d85e1a754",
     "locked": true,
     "points": 1,
     "schema_version": 1,
     "solution": false
    }
   },
   "outputs": [],
   "source": [
    "assert crop_image(img).size == (32, 32)\n",
    "assert crop_image(img, 40).size == (40, 40)"
   ]
  },
  {
   "cell_type": "markdown",
   "metadata": {
    "nbgrader": {
     "grade": false,
     "grade_id": "cell-fde8d225b14a5003",
     "locked": true,
     "schema_version": 1,
     "solution": false
    }
   },
   "source": [
    "Open the file `code/my_utilities.py`, and copy your function there for reuse in other worksheets. Check that you can import and use it:"
   ]
  },
  {
   "cell_type": "code",
   "execution_count": 14,
   "metadata": {
    "nbgrader": {
     "grade": true,
     "grade_id": "cell-1f352152cf7963bb",
     "locked": true,
     "points": 1,
     "schema_version": 1,
     "solution": false
    }
   },
   "outputs": [
    {
     "data": {
      "image/png": "[encoded data removed]",
      "text/plain": [
       "<PIL.Image.Image image mode=RGB size=32x32 at 0x7FF9ACC8CB38>"
      ]
     },
     "execution_count": 14,
     "metadata": {},
     "output_type": "execute_result"
    }
   ],
   "source": [
    "from my_utilities import crop_image\n",
    "crop_image(img)"
   ]
  }
 ],
 "metadata": {
  "celltoolbar": "Create Assignment",
  "kernelspec": {
   "display_name": "Python 3",
   "language": "python",
   "name": "python3"
  },
  "language_info": {
   "codemirror_mode": {
    "name": "ipython",
    "version": 3
   },
   "file_extension": ".py",
   "mimetype": "text/x-python",
   "name": "python",
   "nbconvert_exporter": "python",
   "pygments_lexer": "ipython3",
   "version": "3.7.3"
  }
 },
 "nbformat": 4,
 "nbformat_minor": 2
}
